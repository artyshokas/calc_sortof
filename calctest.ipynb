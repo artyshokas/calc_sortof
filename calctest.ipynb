{
 "cells": [
  {
   "cell_type": "code",
   "execution_count": 18,
   "metadata": {},
   "outputs": [
    {
     "ename": "TclError",
     "evalue": "cannot use geometry manager grid inside . which already has slaves managed by pack",
     "output_type": "error",
     "traceback": [
      "\u001b[1;31m---------------------------------------------------------------------------\u001b[0m",
      "\u001b[1;31mTclError\u001b[0m                                  Traceback (most recent call last)",
      "Cell \u001b[1;32mIn [18], line 8\u001b[0m\n\u001b[0;32m      6\u001b[0m entr \u001b[38;5;241m=\u001b[39m Entry(width\u001b[38;5;241m=\u001b[39m\u001b[38;5;124m\"\u001b[39m\u001b[38;5;124m50\u001b[39m\u001b[38;5;124m\"\u001b[39m)\n\u001b[0;32m      7\u001b[0m \u001b[38;5;66;03m# titl.grid(row=0, column=0)\u001b[39;00m\n\u001b[1;32m----> 8\u001b[0m \u001b[43mentr\u001b[49m\u001b[38;5;241;43m.\u001b[39;49m\u001b[43mgrid\u001b[49m\u001b[43m(\u001b[49m\u001b[43mrow\u001b[49m\u001b[38;5;241;43m=\u001b[39;49m\u001b[38;5;241;43m1\u001b[39;49m\u001b[43m,\u001b[49m\u001b[43m \u001b[49m\u001b[43mcolumn\u001b[49m\u001b[38;5;241;43m=\u001b[39;49m\u001b[38;5;241;43m0\u001b[39;49m\u001b[43m)\u001b[49m\n\u001b[0;32m     10\u001b[0m but_c \u001b[38;5;241m=\u001b[39m Button(window, text\u001b[38;5;241m=\u001b[39m\u001b[38;5;124m\"\u001b[39m\u001b[38;5;124mC\u001b[39m\u001b[38;5;124m\"\u001b[39m)\n\u001b[0;32m     11\u001b[0m but_sq \u001b[38;5;241m=\u001b[39m Button(window, text\u001b[38;5;241m=\u001b[39m\u001b[38;5;124m\"\u001b[39m\u001b[38;5;130;01m\\U0000221A\u001b[39;00m\u001b[38;5;124m\"\u001b[39m)\n",
      "File \u001b[1;32mc:\\Users\\Artiom\\AppData\\Local\\Programs\\Python\\Python310\\lib\\tkinter\\__init__.py:2522\u001b[0m, in \u001b[0;36mGrid.grid_configure\u001b[1;34m(self, cnf, **kw)\u001b[0m\n\u001b[0;32m   2507\u001b[0m \u001b[39mdef\u001b[39;00m \u001b[39mgrid_configure\u001b[39m(\u001b[39mself\u001b[39m, cnf\u001b[39m=\u001b[39m{}, \u001b[39m*\u001b[39m\u001b[39m*\u001b[39mkw):\n\u001b[0;32m   2508\u001b[0m     \u001b[39m\"\"\"Position a widget in the parent widget in a grid. Use as options:\u001b[39;00m\n\u001b[0;32m   2509\u001b[0m \u001b[39m    column=number - use cell identified with given column (starting with 0)\u001b[39;00m\n\u001b[0;32m   2510\u001b[0m \u001b[39m    columnspan=number - this widget will span several columns\u001b[39;00m\n\u001b[1;32m   (...)\u001b[0m\n\u001b[0;32m   2520\u001b[0m \u001b[39m                  widget stick to the cell boundary\u001b[39;00m\n\u001b[0;32m   2521\u001b[0m \u001b[39m    \"\"\"\u001b[39;00m\n\u001b[1;32m-> 2522\u001b[0m     \u001b[39mself\u001b[39;49m\u001b[39m.\u001b[39;49mtk\u001b[39m.\u001b[39;49mcall(\n\u001b[0;32m   2523\u001b[0m           (\u001b[39m'\u001b[39;49m\u001b[39mgrid\u001b[39;49m\u001b[39m'\u001b[39;49m, \u001b[39m'\u001b[39;49m\u001b[39mconfigure\u001b[39;49m\u001b[39m'\u001b[39;49m, \u001b[39mself\u001b[39;49m\u001b[39m.\u001b[39;49m_w)\n\u001b[0;32m   2524\u001b[0m           \u001b[39m+\u001b[39;49m \u001b[39mself\u001b[39;49m\u001b[39m.\u001b[39;49m_options(cnf, kw))\n",
      "\u001b[1;31mTclError\u001b[0m: cannot use geometry manager grid inside . which already has slaves managed by pack"
     ]
    }
   ],
   "source": [
    "from tkinter import *\n",
    "\n",
    "window = Tk()\n",
    "window.geometry(\"300x500\")\n",
    "titl = Label(window, text=\"NOKIA 3310\")\n",
    "titl.grid(row=0, column=0)\n",
    "entr = Entry(width=\"50\")\n",
    "entr.grid(row=1, column=0)\n",
    "\n",
    "but_c = Button(window, text=\"C\")\n",
    "but_sq = Button(window, text=\"\\U0000221A\")\n",
    "but_prc = Button(window, text=\"%\")\n",
    "but_div = Button(window, text=\"\\u00F7\")\n",
    "\n",
    "but_c.grid(row=2, column=0)\n",
    "but_sq.grid(row=2, column=1)\n",
    "but_prc.grid(row=2, column=2)\n",
    "but_div.grid(row=2, column=3)\n",
    "\n",
    "window.mainloop()\n",
    "\n"
   ]
  }
 ],
 "metadata": {
  "kernelspec": {
   "display_name": "Python 3.10.6 64-bit",
   "language": "python",
   "name": "python3"
  },
  "language_info": {
   "name": "python",
   "version": "3.10.6"
  },
  "orig_nbformat": 4,
  "vscode": {
   "interpreter": {
    "hash": "f677513f0fb5a3466bb8a7ad7b99ce742d1295da8228f1d0af16e141058bab1c"
   }
  }
 },
 "nbformat": 4,
 "nbformat_minor": 2
}
