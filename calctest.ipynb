{
 "cells": [
  {
   "cell_type": "code",
   "execution_count": 69,
   "metadata": {},
   "outputs": [],
   "source": [
    "from tkinter import *\n",
    "\n",
    "window = Tk()\n",
    "window.geometry(\"800x600\")\n",
    "\n",
    "\n",
    "entr = Entry(window)\n",
    "\n",
    "\n",
    "but_c = Button(window, width=5, height=2, text=\"C\")\n",
    "but_sq = Button(window, width=5, height=2, text=\"\\U0000221A\")\n",
    "but_prc = Button(window, width=5, height=2, text=\"%\")\n",
    "but_mult = Button(window, width=5, height=2, text=\"*\")\n",
    "but_div = Button(window, width=5, height=2, text=\"\\u00F7\")\n",
    "but_plus = Button(window, width=5, height=2, text=\"+\")\n",
    "but_minus = Button(window, width=5, height=2, text=\"-\")\n",
    "but_equal = Button(window, width=5, height=2, text=\"=\")\n",
    "but_dot = Button(window, width=5, height=2, text=\"dot\")\n",
    "but_1 = Button(window, width=5, height=2, text=\"1\")\n",
    "but_2 = Button(window, width=5, height=2, text=\"2\")\n",
    "but_3 = Button(window, width=5, height=2, text=\"3\")\n",
    "but_4 = Button(window, width=5, height=2, text=\"4\")\n",
    "but_5 = Button(window, width=5, height=2, text=\"5\")\n",
    "but_6 = Button(window, width=5, height=2, text=\"6\")\n",
    "but_7 = Button(window, width=5, height=2, text=\"7\")\n",
    "but_8 = Button(window, width=5, height=2, text=\"8\")\n",
    "but_9 = Button(window, width=5, height=2, text=\"9\")\n",
    "but_0 = Button(window, width=5, height=2, text=\"0\")\n",
    "but_x = Button(window, width=5, height=2, text=\"\")\n",
    "\n",
    "\n",
    "\n",
    "entr.grid(row=0, columnspan=4)\n",
    "but_c.grid(row=1, column=0)\n",
    "but_sq.grid(row=1, column=1)\n",
    "but_prc.grid(row=1, column=2)\n",
    "but_div.grid(row=1, column=3)\n",
    "but_mult.grid(row=2, column=3)\n",
    "but_plus.grid(row=4, column=3) \n",
    "but_minus.grid(row=3, column=3)\n",
    "but_equal.grid(row=5, column=3)\n",
    "but_dot.grid(row=5, column=2)\n",
    "but_1.grid(row=4, column=0)\n",
    "but_2.grid(row=4, column=1)\n",
    "but_3.grid(row=4, column=2)\n",
    "but_4.grid(row=3, column=0)\n",
    "but_5.grid(row=3, column=1)\n",
    "but_6.grid(row=3, column=2)\n",
    "but_7.grid(row=2, column=0)\n",
    "but_8.grid(row=2, column=1)\n",
    "but_9.grid(row=2, column=2)\n",
    "but_0.grid(row=5, column=1)\n",
    "but_x.grid(row=5, column=0)\n",
    "\n",
    "\n",
    "\n",
    "\n",
    "window.mainloop()\n",
    "\n"
   ]
  }
 ],
 "metadata": {
  "kernelspec": {
   "display_name": "Python 3.10.6 64-bit",
   "language": "python",
   "name": "python3"
  },
  "language_info": {
   "name": "python",
   "version": "3.10.6"
  },
  "orig_nbformat": 4,
  "vscode": {
   "interpreter": {
    "hash": "f677513f0fb5a3466bb8a7ad7b99ce742d1295da8228f1d0af16e141058bab1c"
   }
  }
 },
 "nbformat": 4,
 "nbformat_minor": 2
}
